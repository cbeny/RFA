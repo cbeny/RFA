{
 "cells": [
  {
   "cell_type": "markdown",
   "metadata": {},
   "source": [
    "In this example, we reconstruct one part of MNIST digits given another part. This is a demonstration of the approach introduced in https://arxiv.org/abs/1904.10387"
   ]
  },
  {
   "cell_type": "code",
   "execution_count": 1,
   "metadata": {},
   "outputs": [],
   "source": [
    "num_feat = 250   # we are looking for that many features\n",
    "max_epoch = 150\n",
    "\n",
    "fast = False    # if false, we use the Moore-Penrose pseudo inverse\n",
    "fudge = 0.0     # otherwise, we add this much times the identity before inverting\n",
    "\n",
    "batch_size = 1000  # use 5000\n",
    "\n",
    "load = False"
   ]
  },
  {
   "cell_type": "code",
   "execution_count": 2,
   "metadata": {
    "_kg_hide-output": true
   },
   "outputs": [],
   "source": [
    "# get rid of all the warnings\n",
    "#import os, warnings\n",
    "#warnings.simplefilter(\"ignore\", category=FutureWarning)\n",
    "#os.environ[\"TF_CPP_MIN_LOG_LEVEL\"]=\"2\"\n",
    "import tensorflow as tf\n",
    "#tf.logging.set_verbosity(tf.logging.ERROR)\n",
    "\n",
    "#import keras;\n",
    "from tensorflow.keras.preprocessing.image import ImageDataGenerator;\n",
    "import numpy as np\n",
    "#import tensorflow as tf\n",
    "import numpy.linalg as nl\n",
    "#import tensorflow.linalg as tl\n",
    "from tensorflow.keras.models import Sequential, Model, load_model\n",
    "from tensorflow.keras.layers import Conv2D, Dense, Flatten, Input, concatenate, Lambda, ZeroPadding2D, BatchNormalization\n",
    "from tensorflow.keras.optimizers import Adam\n",
    "from tensorflow.keras.callbacks import ModelCheckpoint, EarlyStopping\n",
    "\n",
    "import pickle\n",
    "\n",
    "import matplotlib.pyplot as plt\n",
    "%matplotlib inline"
   ]
  },
  {
   "cell_type": "markdown",
   "metadata": {},
   "source": [
    "Our data consists of two sub-areas of MNIST digits. For convenience, we actually use the whole images, but our two neural nets will be \"looking\" at different parts of it."
   ]
  },
  {
   "cell_type": "code",
   "execution_count": 3,
   "metadata": {},
   "outputs": [],
   "source": [
    "mnist = tf.keras.datasets.mnist;\n",
    "(train_images, train_labels), (test_images, test_labels) = mnist.load_data();\n",
    "train_images = train_images.reshape(-1,28,28,1).astype(np.float32)/255.0\n",
    "test_images = test_images.reshape(-1,28,28,1).astype(np.float32)/255.0\n",
    "\n",
    "# keras really wants us to have targets, so let's make some dummy ones\n",
    "dummy = np.zeros(len(train_images))\n",
    "test_dummy = np.zeros(len(test_images))\n",
    "    \n",
    "# we agument the data to make it a bit harder\n",
    "datagen = ImageDataGenerator(\n",
    "    rotation_range=5,\n",
    "    width_shift_range=3.0,\n",
    "    height_shift_range=1.5)\n",
    "\n",
    "import copy \n",
    "test_datagen = copy.deepcopy(datagen)\n",
    "\n",
    "# defines which part of the image will be looked at by each net\n",
    "x_mask = np.zeros((28,28,1),dtype=np.bool)\n",
    "y_mask = np.ones((28,28,1),dtype=np.bool)\n",
    "x_mask[:,15:,0] = True\n",
    "y_mask[:,14:,0] = False"
   ]
  },
  {
   "cell_type": "markdown",
   "metadata": {},
   "source": [
    "Let's see what this looks like:"
   ]
  },
  {
   "cell_type": "code",
   "execution_count": 4,
   "metadata": {},
   "outputs": [
    {
     "name": "stderr",
     "output_type": "stream",
     "text": [
      "Clipping input data to the valid range for imshow with RGB data ([0..1] for floats or [0..255] for integers).\n"
     ]
    },
    {
     "data": {
      "image/png": "[encoded data removed]",
      "text/plain": [
       "<Figure size 2160x288 with 1 Axes>"
      ]
     },
     "metadata": {
      "needs_background": "light"
     },
     "output_type": "display_data"
    }
   ],
   "source": [
    "def show_images(pairs):\n",
    "    n = len(pairs)\n",
    "    width = 15\n",
    "    rows = (n-1) // width + 1\n",
    "    cols = min(n, width)\n",
    "    bigim = np.zeros((28*rows, 28*cols, 3), np.float32)\n",
    "    fig = plt.figure(figsize=(2*cols, 2*rows))\n",
    "    for (j,(x,y)) in enumerate(pairs):\n",
    "        im = np.zeros((28,28,3))\n",
    "        im[np.squeeze(x_mask),0:1] = x[np.squeeze(x_mask)]+0.2\n",
    "        im[np.squeeze(x_mask),2:3] = x[np.squeeze(x_mask)]*0.5+0.1\n",
    "        im[np.squeeze(y_mask),:] = y[np.squeeze(y_mask)]\n",
    "        a = (j % width)*28\n",
    "        b = (j // width)*28\n",
    "        bigim[b:b+28,a:a+28,:] = im\n",
    "        \n",
    "    plt.imshow(bigim)\n",
    "    plt.axis('off')\n",
    "    \n",
    "num = 30\n",
    "examples = datagen.flow(train_images[:num], dummy[:num], batch_size=num)[0][0]\n",
    "    \n",
    "show_images([(examples[i], examples[i]) for i in range(num)])\n"
   ]
  },
  {
   "cell_type": "markdown",
   "metadata": {},
   "source": [
    "We build two convolutional neural nets, each acting on a different part of the image (defined by x_mask and y_mask). "
   ]
  },
  {
   "cell_type": "code",
   "execution_count": 5,
   "metadata": {},
   "outputs": [],
   "source": [
    "def build_model():\n",
    "    def cnn(image, mask):\n",
    "        x = Lambda(lambda y: y * mask.astype(np.float32))(image)\n",
    "        x = Conv2D(32, kernel_size=(3, 3), strides=(1,1), activation='relu')(x)\n",
    "        x = Conv2D(64, kernel_size=(4, 4), strides=(2,2), activation='relu')(x)\n",
    "        x = Conv2D(64, kernel_size=(3, 3), strides=(1,1), activation='relu')(x)\n",
    "        x = Conv2D(128, kernel_size=(4, 4), strides=(2,2), activation='relu')(x)\n",
    "        x = Flatten()(x)\n",
    "        x = Dense(1024, activation='relu')(x)\n",
    "        features = Dense(num_feat, activation='tanh')(x)\n",
    "        return features\n",
    "\n",
    "    image = Input(shape=(28,28,1))\n",
    "    out1 = cnn(image, x_mask)\n",
    "    out2 = cnn(image, y_mask)\n",
    "\n",
    "    # We will use each models separately for predictions...\n",
    "    feat1 = Model(inputs=image, outputs=out1)\n",
    "    feat2 = Model(inputs=image, outputs=out2)\n",
    "\n",
    "    # ...but together for training as they have a joint loss function\n",
    "    model = Model(inputs=image, outputs=concatenate([out1, out2], axis=1))\n",
    "    \n",
    "    return feat1, feat2, model"
   ]
  },
  {
   "cell_type": "markdown",
   "metadata": {},
   "source": [
    "Here are the functions implementing the RFA objective as well as the inference step:"
   ]
  },
  {
   "cell_type": "code",
   "execution_count": 6,
   "metadata": {},
   "outputs": [],
   "source": [
    "def tf_prep(T):\n",
    "    z = tf.math.sqrt(tf.cast(tf.shape(T)[0], tf.float64))\n",
    "    return tf.cast(T, tf.float64)/z\n",
    "    \n",
    "def prep(T):\n",
    "    z = np.sqrt(T.shape[0])\n",
    "    return T.astype(np.float64)/z\n",
    "\n",
    "if fast:\n",
    "    def pinv(T):\n",
    "        D = fudge * tf.eye(tf.shape(T)[0], dtype = tf.float64)\n",
    "        return tf.linalg.inv(T + D)\n",
    "else:\n",
    "    #import tensorflow_probability as tfp\n",
    "    pinv = tf.linalg.pinv\n",
    "\n",
    "@tf.custom_gradient\n",
    "def tf_relevance(F, G):  \n",
    "    F = tf_prep(F)\n",
    "    G = tf_prep(G)\n",
    "    D = fudge * tf.eye(tf.shape(F)[1], dtype = tf.float64)\n",
    "\n",
    "    iK = pinv(tf.matmul(F, F, transpose_a=True))\n",
    "    iL = pinv(tf.matmul(G, G, transpose_a=True))\n",
    "    \n",
    "    A = tf.matmul(F, G, transpose_a=True)\n",
    "    U = tf.matmul(iK, A, transpose_b=False)\n",
    "    V = tf.matmul(iL, A, transpose_b=True)\n",
    "\n",
    "    dF = 2 * (G - F @ U) @ V @ iK\n",
    "    dG = 2 * (F - G @ V) @ U @ iL\n",
    "    grad = lambda delta: (tf.cast(delta * dF, tf.float32), tf.cast(delta * dG, tf.float32))\n",
    "        \n",
    "    return tf.linalg.trace(U @ V), grad\n",
    "\n",
    "def cov(F, G):\n",
    "    F = prep(F)\n",
    "    G = prep(G)\n",
    "    return (F.T @ F, \n",
    "            G.T @ G, \n",
    "            F.T @ G)\n",
    "    \n",
    "\n",
    "# produces a function that maps a vector of features on X to the inferred (expected) value of Y\n",
    "# More generally, Y can be the value of any function f of Y applied to each training example. \n",
    "# It's shape is (num training example, a,b,...) where (a,b,...) is the shape of the output of f.\n",
    "def inferY(ker, G, Y):  \n",
    "    n, k = F.shape\n",
    "    data_shape = Y.shape[1:]\n",
    "    \n",
    "    K, L, A = ker\n",
    "    Y = prep(Y).reshape((n,-1))\n",
    "    G = prep(G)\n",
    "    \n",
    "    M = (np.transpose(Y) @ G) @ nl.solve(L, np.transpose(A)) \n",
    "    iK = nl.pinv(K)\n",
    "\n",
    "    def infer(tF):\n",
    "        X = np.transpose(M @ (iK @ np.transpose(tF))) \n",
    "        return X.reshape((-1,) + data_shape)\n",
    "    \n",
    "    return infer\n",
    "\n",
    "# in principle the above works for inferring the full pixel-pixel covariance matrix, \n",
    "# but it's not practical. So we have to do that differently:\n",
    "def inferY2(ker, G, Y):  \n",
    "    n, k = F.shape\n",
    "    data_shape = Y.shape[1:]\n",
    "    \n",
    "    K, L, A = ker\n",
    "    Y = prep(Y).reshape((n,-1))\n",
    "    m = Y.shape[1]\n",
    "    G = prep(G)\n",
    "    \n",
    "    Y2G = np.zeros((m,m,k), np.float32)\n",
    "    for i in range(k): \n",
    "        print(i+1,\"/\",k,end=\"\\r\")\n",
    "        Y2G[:,:,i] = np.transpose(Y) @ (Y * G[:, i:i+1]) * np.sqrt(n)\n",
    "        \n",
    "    M = Y2G @ nl.solve(L, np.transpose(A)) \n",
    "    \n",
    "    iK = nl.pinv(K)\n",
    "    \n",
    "    def infer(tF):\n",
    "        X = np.transpose(M @ (iK @ np.transpose(tF))) \n",
    "        return X.reshape((-1,) + data_shape + data_shape)\n",
    "    \n",
    "    return infer\n",
    "\n",
    "# produces a function which maps a vector of features on Y to the inferred (expected) value of X\n",
    "def inferX(ker, F, X): \n",
    "    K, L, A = ker\n",
    "    return inferY((L, K, np.transpose(A)), F, X)\n",
    "\n",
    "def singvals(ker):\n",
    "    K, L, A = ker\n",
    "    M = nl.solve(K, A) @ nl.solve(L, np.transpose(A))\n",
    "    return sorted(nl.eigvals(M), reverse=True)\n",
    "    \n",
    "def RFA_Loss():\n",
    "    def loss(dummy, features):\n",
    "        F, G = tf.split(features, 2, axis=1)\n",
    "        return -tf_relevance(F, G) \n",
    "    return loss"
   ]
  },
  {
   "cell_type": "markdown",
   "metadata": {},
   "source": [
    "It's time to learn the correlations"
   ]
  },
  {
   "cell_type": "code",
   "execution_count": null,
   "metadata": {
    "scrolled": true
   },
   "outputs": [
    {
     "name": "stdout",
     "output_type": "stream",
     "text": [
      "WARNING:tensorflow:sample_weight modes were coerced from\n",
      "  ...\n",
      "    to  \n",
      "  ['...']\n",
      "Train for 60.0 steps\n",
      "Epoch 1/150\n"
     ]
    }
   ],
   "source": [
    "feat1, feat2, model = build_model()\n",
    "\n",
    "model.compile(optimizer = Adam(lr=0.001), loss = RFA_Loss())\n",
    "\n",
    "name = 'k'+str(num_feat)+'_'\n",
    "\n",
    "if load:\n",
    "    model.load_weights(name+'best_weights.h5')\n",
    "    with open(name+'history.p', 'rb') as handle: \n",
    "        history = pickle.load(handle)\n",
    "\n",
    "else:\n",
    "    callbacks = [\n",
    "        ModelCheckpoint(name+'best_weights.h5', monitor='val_loss', mode='min', verbose=0, save_best_only=True, save_weights_only=True),\n",
    "        #EarlyStopping(monitor='val_loss', mode='min', verbose=0, patience=2)\n",
    "    ]\n",
    "    \n",
    "    train_data = datagen.flow(train_images, dummy, batch_size=batch_size, shuffle=True)\n",
    "    test_data = test_datagen.flow(test_images, test_dummy, batch_size=batch_size)\n",
    "    \n",
    "    history = model.fit(train_data, steps_per_epoch = len(train_images) / batch_size,\n",
    "                        epochs = max_epoch, verbose=1\n",
    "                        #callbacks = callbacks,\n",
    "                        #validation_data = test_data, validation_freq = 5\n",
    "                       ).history\n",
    "    \n",
    "    with open(name+'history.p', 'wb') as handle: \n",
    "        pickle.dump(history, handle)\n",
    "    \n",
    "    model.save_weights(name+'last_weights.h5')\n",
    "    model.load_weights(name+'best_weights.h5')"
   ]
  },
  {
   "cell_type": "code",
   "execution_count": null,
   "metadata": {},
   "outputs": [],
   "source": [
    "plt.figure(figsize=(3*1.25,2*1.25))\n",
    "plt.semilogy(np.arange(len(history['val_loss']))*5+4, num_feat + np.array(history['val_loss']), 'k-')\n",
    "plt.semilogy(num_feat + np.array(history['loss']), 'k--')\n",
    "#plt.ylabel('Loss')\n",
    "#plt.xlabel('Epoch')\n",
    "plt.legend(['test loss', 'training loss'], loc='upper right', frameon=False)\n",
    "plt.savefig(\"halves_loss.pdf\")\n",
    "plt.show()"
   ]
  },
  {
   "cell_type": "markdown",
   "metadata": {},
   "source": [
    "We compute the best features on the full training set"
   ]
  },
  {
   "cell_type": "code",
   "execution_count": null,
   "metadata": {},
   "outputs": [],
   "source": [
    "post_data = datagen.flow(train_images, batch_size=batch_size)\n",
    "\n",
    "aux = []\n",
    "for j in range(2):\n",
    "    aux += [post_data[i] for i in range(len(post_data))]\n",
    "\n",
    "post_images = np.concatenate(aux, axis=0)\n",
    "\n",
    "#features = model.predict_generator(post_data, verbose=1) \n",
    "features = model.predict(post_images, batch_size=2000, verbose=1) \n",
    "\n",
    "F, G = np.split(features, 2, axis=1)\n",
    "ker = cov(F, G)"
   ]
  },
  {
   "cell_type": "markdown",
   "metadata": {},
   "source": [
    "A little consistency check: we compute the singular values using different random batches. The result shouldn't depend too much on the sample size. This screens for a failure mode in which the objective is independent of the sample for a given sample size, but highly dependent on the sample size."
   ]
  },
  {
   "cell_type": "code",
   "execution_count": null,
   "metadata": {},
   "outputs": [],
   "source": [
    "#if not load:\n",
    "for n in [10000, 20000]:\n",
    "    sample = np.random.choice(F.shape[0], n)\n",
    "    plt.plot(np.abs(singvals(cov(F[sample], G[sample]))), label=str(n))\n",
    "    \n",
    "sv = singvals(ker)\n",
    "print(sum(sv))\n",
    "\n",
    "with open(name+'train_singvals.p', 'wb') as handle: \n",
    "    pickle.dump(sv, handle)\n",
    "    \n",
    "plt.plot(np.abs(sv), label=str(len(F)))\n",
    "\n",
    "plt.legend();"
   ]
  },
  {
   "cell_type": "markdown",
   "metadata": {},
   "source": [
    "Let's graph the singular values evaluated on test data"
   ]
  },
  {
   "cell_type": "code",
   "execution_count": null,
   "metadata": {},
   "outputs": [],
   "source": [
    "test_data = test_datagen.flow(test_images, batch_size=2000)\n",
    "\n",
    "aux = []\n",
    "for j in range(5):\n",
    "    aux += [test_data[i] for i in range(len(test_data))]\n",
    "\n",
    "test_data = np.concatenate(aux, axis=0)\n",
    "\n",
    "tfeatures = model.predict(test_data, batch_size=2000, verbose=1) \n",
    "tF, tG = np.split(tfeatures, 2, axis=1)\n",
    "\n",
    "\n",
    "tker = cov(tF, tG)\n",
    "sv = np.abs(singvals(tker))\n",
    "print(sum(sv))\n",
    "\n",
    "with open(name+'singvals.p', 'wb') as handle: \n",
    "    pickle.dump(sv, handle)\n",
    "        \n",
    "plt.figure(figsize=(3*1.25,2*1.25))\n",
    "plt.plot(np.abs(sv), 'k-');\n",
    "#plt.savefig(\"halves_lambda.pdf\")\n"
   ]
  },
  {
   "cell_type": "markdown",
   "metadata": {},
   "source": [
    "Finally, we can try inferring one part of test images given their other part (in red). These are meant to be averages over all possibilities, not samples from the conditional distributions."
   ]
  },
  {
   "cell_type": "code",
   "execution_count": null,
   "metadata": {},
   "outputs": [],
   "source": [
    "# make function that predicts conditional mean of pixel value\n",
    "infer = inferY(ker, G, post_images * y_mask)\n",
    "\n",
    "# try it on a sample of test images\n",
    "np.random.seed(1337)\n",
    "samples = np.random.choice(test_images.shape[0], size=15*10, replace=False)\n",
    "\n",
    "sF = feat1.predict(test_images[samples], verbose=0)\n",
    "y_pred = infer(sF)\n",
    "#y_pred = infer(tF[samples])\n",
    "show_images(list(zip(test_images[samples], y_pred))) "
   ]
  },
  {
   "cell_type": "markdown",
   "metadata": {},
   "source": [
    "Okay, but maybe a traditional feed-forward encoder-decoder might have done just as well. However, we have a full probabilist model. For instance, let us check the uncertainty on each pixel values:"
   ]
  },
  {
   "cell_type": "code",
   "execution_count": null,
   "metadata": {},
   "outputs": [],
   "source": [
    "# predict the mean of the square of the pixel values\n",
    "infer2_local = inferY(ker, G, (post_images * y_mask)**2)\n",
    "\n",
    "y2_pred = infer2_local(sF)\n",
    "\n",
    "# that allows us to compute the standard deviations\n",
    "dev = y2_pred - y_pred**2\n",
    "show_images(list(zip(test_images[samples], dev*3)))"
   ]
  },
  {
   "cell_type": "markdown",
   "metadata": {},
   "source": [
    "Even better, we can predict all pixel-pixel correlations!"
   ]
  },
  {
   "cell_type": "code",
   "execution_count": null,
   "metadata": {},
   "outputs": [],
   "source": [
    "infer2 = inferY2(ker, G, post_images * y_mask)"
   ]
  },
  {
   "cell_type": "markdown",
   "metadata": {},
   "source": [
    "And uncover the main predictions ambiguities by exploring variations in the direction of largest covariance"
   ]
  },
  {
   "cell_type": "code",
   "execution_count": null,
   "metadata": {
    "scrolled": false
   },
   "outputs": [],
   "source": [
    "s = 28**2\n",
    "y2_pred = infer2(sF)\n",
    "left_images = []\n",
    "right_images = []\n",
    "for i in range(5*15):\n",
    "    print(i+1,\"/\",5*15,end=\"\\r\")\n",
    "    y = y_pred[i]\n",
    "    y2 = y2_pred[i]\n",
    "    a, ef = nl.eigh(y2.reshape((s,s)) - y.reshape((s,1)) * y.reshape((1,s)))\n",
    "    idx = a.argsort()[::-1]\n",
    "    alpha = np.sqrt(a[idx[0]])                     # largest eigenvalue\n",
    "    vec = ef[:,idx[0]].reshape((28,28,1))          # corresponding eigenvector \n",
    "    vec = vec/nl.norm(vec)\n",
    "    left_images.append(y - alpha*vec)\n",
    "    left_images.append(y)\n",
    "    left_images.append(y + alpha*vec)\n",
    "    for j in range(3): right_images.append(test_images[samples[i]])\n",
    "\n",
    "show_images(list(zip(right_images, left_images)))"
   ]
  },
  {
   "cell_type": "code",
   "execution_count": null,
   "metadata": {},
   "outputs": [],
   "source": []
  },
  {
   "cell_type": "code",
   "execution_count": null,
   "metadata": {},
   "outputs": [],
   "source": []
  },
  {
   "cell_type": "code",
   "execution_count": null,
   "metadata": {},
   "outputs": [],
   "source": []
  }
 ],
 "metadata": {
  "kernelspec": {
   "display_name": "Python 3",
   "language": "python",
   "name": "python3"
  },
  "language_info": {
   "codemirror_mode": {
    "name": "ipython",
    "version": 3
   },
   "file_extension": ".py",
   "mimetype": "text/x-python",
   "name": "python",
   "nbconvert_exporter": "python",
   "pygments_lexer": "ipython3",
   "version": "3.7.5"
  }
 },
 "nbformat": 4,
 "nbformat_minor": 1
}
